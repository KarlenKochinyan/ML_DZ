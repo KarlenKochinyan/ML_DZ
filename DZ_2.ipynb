{
  "cells": [
    {
      "cell_type": "code",
      "execution_count": null,
      "id": "ba5cfa4c",
      "metadata": {
        "id": "ba5cfa4c"
      },
      "outputs": [],
      "source": [
        "import pandas as pd\n",
        "import numpy as np\n",
        "from matplotlib import pyplot as plt\n",
        "import seaborn as sns\n",
        "\n",
        "%matplotlib inline"
      ]
    },
    {
      "cell_type": "code",
      "execution_count": null,
      "id": "82347607",
      "metadata": {
        "id": "82347607"
      },
      "outputs": [],
      "source": []
    },
    {
      "cell_type": "code",
      "execution_count": null,
      "id": "6ddcba68",
      "metadata": {
        "id": "6ddcba68"
      },
      "outputs": [],
      "source": [
        "data_weather=pd.read_csv('./seattle-weather.csv')"
      ]
    },
    {
      "cell_type": "code",
      "execution_count": null,
      "id": "fdac9ba5",
      "metadata": {
        "id": "fdac9ba5",
        "outputId": "b1d0de7b-c662-42f7-fb8a-1c314f5d59b8"
      },
      "outputs": [
        {
          "data": {
            "text/html": [
              "<div>\n",
              "<style scoped>\n",
              "    .dataframe tbody tr th:only-of-type {\n",
              "        vertical-align: middle;\n",
              "    }\n",
              "\n",
              "    .dataframe tbody tr th {\n",
              "        vertical-align: top;\n",
              "    }\n",
              "\n",
              "    .dataframe thead th {\n",
              "        text-align: right;\n",
              "    }\n",
              "</style>\n",
              "<table border=\"1\" class=\"dataframe\">\n",
              "  <thead>\n",
              "    <tr style=\"text-align: right;\">\n",
              "      <th></th>\n",
              "      <th>date</th>\n",
              "      <th>precipitation</th>\n",
              "      <th>temp_max</th>\n",
              "      <th>temp_min</th>\n",
              "      <th>wind</th>\n",
              "      <th>weather</th>\n",
              "    </tr>\n",
              "  </thead>\n",
              "  <tbody>\n",
              "    <tr>\n",
              "      <th>0</th>\n",
              "      <td>2012-01-01</td>\n",
              "      <td>0.0</td>\n",
              "      <td>12.8</td>\n",
              "      <td>5.0</td>\n",
              "      <td>4.7</td>\n",
              "      <td>drizzle</td>\n",
              "    </tr>\n",
              "    <tr>\n",
              "      <th>1</th>\n",
              "      <td>2012-01-02</td>\n",
              "      <td>10.9</td>\n",
              "      <td>10.6</td>\n",
              "      <td>2.8</td>\n",
              "      <td>4.5</td>\n",
              "      <td>rain</td>\n",
              "    </tr>\n",
              "    <tr>\n",
              "      <th>2</th>\n",
              "      <td>2012-01-03</td>\n",
              "      <td>0.8</td>\n",
              "      <td>11.7</td>\n",
              "      <td>7.2</td>\n",
              "      <td>2.3</td>\n",
              "      <td>rain</td>\n",
              "    </tr>\n",
              "    <tr>\n",
              "      <th>3</th>\n",
              "      <td>2012-01-04</td>\n",
              "      <td>20.3</td>\n",
              "      <td>12.2</td>\n",
              "      <td>5.6</td>\n",
              "      <td>4.7</td>\n",
              "      <td>rain</td>\n",
              "    </tr>\n",
              "    <tr>\n",
              "      <th>4</th>\n",
              "      <td>2012-01-05</td>\n",
              "      <td>1.3</td>\n",
              "      <td>8.9</td>\n",
              "      <td>2.8</td>\n",
              "      <td>6.1</td>\n",
              "      <td>rain</td>\n",
              "    </tr>\n",
              "    <tr>\n",
              "      <th>...</th>\n",
              "      <td>...</td>\n",
              "      <td>...</td>\n",
              "      <td>...</td>\n",
              "      <td>...</td>\n",
              "      <td>...</td>\n",
              "      <td>...</td>\n",
              "    </tr>\n",
              "    <tr>\n",
              "      <th>1456</th>\n",
              "      <td>2015-12-27</td>\n",
              "      <td>8.6</td>\n",
              "      <td>4.4</td>\n",
              "      <td>1.7</td>\n",
              "      <td>2.9</td>\n",
              "      <td>rain</td>\n",
              "    </tr>\n",
              "    <tr>\n",
              "      <th>1457</th>\n",
              "      <td>2015-12-28</td>\n",
              "      <td>1.5</td>\n",
              "      <td>5.0</td>\n",
              "      <td>1.7</td>\n",
              "      <td>1.3</td>\n",
              "      <td>rain</td>\n",
              "    </tr>\n",
              "    <tr>\n",
              "      <th>1458</th>\n",
              "      <td>2015-12-29</td>\n",
              "      <td>0.0</td>\n",
              "      <td>7.2</td>\n",
              "      <td>0.6</td>\n",
              "      <td>2.6</td>\n",
              "      <td>fog</td>\n",
              "    </tr>\n",
              "    <tr>\n",
              "      <th>1459</th>\n",
              "      <td>2015-12-30</td>\n",
              "      <td>0.0</td>\n",
              "      <td>5.6</td>\n",
              "      <td>-1.0</td>\n",
              "      <td>3.4</td>\n",
              "      <td>sun</td>\n",
              "    </tr>\n",
              "    <tr>\n",
              "      <th>1460</th>\n",
              "      <td>2015-12-31</td>\n",
              "      <td>0.0</td>\n",
              "      <td>5.6</td>\n",
              "      <td>-2.1</td>\n",
              "      <td>3.5</td>\n",
              "      <td>sun</td>\n",
              "    </tr>\n",
              "  </tbody>\n",
              "</table>\n",
              "<p>1461 rows × 6 columns</p>\n",
              "</div>"
            ],
            "text/plain": [
              "            date  precipitation  temp_max  temp_min  wind  weather\n",
              "0     2012-01-01            0.0      12.8       5.0   4.7  drizzle\n",
              "1     2012-01-02           10.9      10.6       2.8   4.5     rain\n",
              "2     2012-01-03            0.8      11.7       7.2   2.3     rain\n",
              "3     2012-01-04           20.3      12.2       5.6   4.7     rain\n",
              "4     2012-01-05            1.3       8.9       2.8   6.1     rain\n",
              "...          ...            ...       ...       ...   ...      ...\n",
              "1456  2015-12-27            8.6       4.4       1.7   2.9     rain\n",
              "1457  2015-12-28            1.5       5.0       1.7   1.3     rain\n",
              "1458  2015-12-29            0.0       7.2       0.6   2.6      fog\n",
              "1459  2015-12-30            0.0       5.6      -1.0   3.4      sun\n",
              "1460  2015-12-31            0.0       5.6      -2.1   3.5      sun\n",
              "\n",
              "[1461 rows x 6 columns]"
            ]
          },
          "execution_count": 11,
          "metadata": {},
          "output_type": "execute_result"
        }
      ],
      "source": [
        "data_weather"
      ]
    },
    {
      "cell_type": "code",
      "execution_count": null,
      "id": "d5a43ce3",
      "metadata": {
        "id": "d5a43ce3",
        "outputId": "9a519afb-4ccf-416f-c352-b30271732801"
      },
      "outputs": [
        {
          "data": {
            "text/html": [
              "<div>\n",
              "<style scoped>\n",
              "    .dataframe tbody tr th:only-of-type {\n",
              "        vertical-align: middle;\n",
              "    }\n",
              "\n",
              "    .dataframe tbody tr th {\n",
              "        vertical-align: top;\n",
              "    }\n",
              "\n",
              "    .dataframe thead th {\n",
              "        text-align: right;\n",
              "    }\n",
              "</style>\n",
              "<table border=\"1\" class=\"dataframe\">\n",
              "  <thead>\n",
              "    <tr style=\"text-align: right;\">\n",
              "      <th></th>\n",
              "      <th>date</th>\n",
              "      <th>precipitation</th>\n",
              "      <th>temp_max</th>\n",
              "      <th>temp_min</th>\n",
              "      <th>wind</th>\n",
              "      <th>weather</th>\n",
              "    </tr>\n",
              "  </thead>\n",
              "  <tbody>\n",
              "    <tr>\n",
              "      <th>0</th>\n",
              "      <td>2012-01-01</td>\n",
              "      <td>0.0</td>\n",
              "      <td>12.8</td>\n",
              "      <td>5.0</td>\n",
              "      <td>4.7</td>\n",
              "      <td>drizzle</td>\n",
              "    </tr>\n",
              "    <tr>\n",
              "      <th>1</th>\n",
              "      <td>2012-01-02</td>\n",
              "      <td>10.9</td>\n",
              "      <td>10.6</td>\n",
              "      <td>2.8</td>\n",
              "      <td>4.5</td>\n",
              "      <td>rain</td>\n",
              "    </tr>\n",
              "    <tr>\n",
              "      <th>2</th>\n",
              "      <td>2012-01-03</td>\n",
              "      <td>0.8</td>\n",
              "      <td>11.7</td>\n",
              "      <td>7.2</td>\n",
              "      <td>2.3</td>\n",
              "      <td>rain</td>\n",
              "    </tr>\n",
              "    <tr>\n",
              "      <th>3</th>\n",
              "      <td>2012-01-04</td>\n",
              "      <td>20.3</td>\n",
              "      <td>12.2</td>\n",
              "      <td>5.6</td>\n",
              "      <td>4.7</td>\n",
              "      <td>rain</td>\n",
              "    </tr>\n",
              "    <tr>\n",
              "      <th>4</th>\n",
              "      <td>2012-01-05</td>\n",
              "      <td>1.3</td>\n",
              "      <td>8.9</td>\n",
              "      <td>2.8</td>\n",
              "      <td>6.1</td>\n",
              "      <td>rain</td>\n",
              "    </tr>\n",
              "  </tbody>\n",
              "</table>\n",
              "</div>"
            ],
            "text/plain": [
              "         date  precipitation  temp_max  temp_min  wind  weather\n",
              "0  2012-01-01            0.0      12.8       5.0   4.7  drizzle\n",
              "1  2012-01-02           10.9      10.6       2.8   4.5     rain\n",
              "2  2012-01-03            0.8      11.7       7.2   2.3     rain\n",
              "3  2012-01-04           20.3      12.2       5.6   4.7     rain\n",
              "4  2012-01-05            1.3       8.9       2.8   6.1     rain"
            ]
          },
          "execution_count": 13,
          "metadata": {},
          "output_type": "execute_result"
        }
      ],
      "source": [
        "data_weather.head()"
      ]
    },
    {
      "cell_type": "code",
      "execution_count": null,
      "id": "55341d3f",
      "metadata": {
        "id": "55341d3f",
        "outputId": "8621c182-ea32-41b0-b19b-104cedc36a82"
      },
      "outputs": [
        {
          "name": "stdout",
          "output_type": "stream",
          "text": [
            "<class 'pandas.core.frame.DataFrame'>\n",
            "RangeIndex: 1461 entries, 0 to 1460\n",
            "Data columns (total 6 columns):\n",
            " #   Column         Non-Null Count  Dtype  \n",
            "---  ------         --------------  -----  \n",
            " 0   date           1461 non-null   object \n",
            " 1   precipitation  1461 non-null   float64\n",
            " 2   temp_max       1461 non-null   float64\n",
            " 3   temp_min       1461 non-null   float64\n",
            " 4   wind           1461 non-null   float64\n",
            " 5   weather        1461 non-null   object \n",
            "dtypes: float64(4), object(2)\n",
            "memory usage: 68.6+ KB\n"
          ]
        }
      ],
      "source": [
        "data_weather.info()"
      ]
    },
    {
      "cell_type": "code",
      "execution_count": null,
      "id": "1067ef1c",
      "metadata": {
        "id": "1067ef1c",
        "outputId": "8b608fb4-4875-46ff-d64b-a321506c15aa"
      },
      "outputs": [
        {
          "data": {
            "text/plain": [
              "rain       641\n",
              "sun        640\n",
              "fog        101\n",
              "drizzle     53\n",
              "snow        26\n",
              "Name: weather, dtype: int64"
            ]
          },
          "execution_count": 15,
          "metadata": {},
          "output_type": "execute_result"
        }
      ],
      "source": [
        "data_weather['weather'].value_counts()"
      ]
    },
    {
      "cell_type": "code",
      "execution_count": null,
      "id": "74d41f60",
      "metadata": {
        "id": "74d41f60",
        "outputId": "48bc16a1-56b1-4b06-e875-82ac61b19500"
      },
      "outputs": [
        {
          "data": {
            "text/plain": [
              "date             0\n",
              "precipitation    0\n",
              "temp_max         0\n",
              "temp_min         0\n",
              "wind             0\n",
              "weather          0\n",
              "dtype: int64"
            ]
          },
          "execution_count": 16,
          "metadata": {},
          "output_type": "execute_result"
        }
      ],
      "source": [
        "data_weather.isnull().sum()"
      ]
    },
    {
      "cell_type": "code",
      "execution_count": null,
      "id": "9300853f",
      "metadata": {
        "id": "9300853f"
      },
      "outputs": [],
      "source": [
        "X=data_weather.drop(['date','weather'],axis=1)\n",
        "y=data_weather['weather']"
      ]
    },
    {
      "cell_type": "code",
      "execution_count": null,
      "id": "174da410",
      "metadata": {
        "id": "174da410",
        "outputId": "e0343092-b5ad-467e-e3c6-f55f47cbe8fc"
      },
      "outputs": [
        {
          "data": {
            "text/html": [
              "<div>\n",
              "<style scoped>\n",
              "    .dataframe tbody tr th:only-of-type {\n",
              "        vertical-align: middle;\n",
              "    }\n",
              "\n",
              "    .dataframe tbody tr th {\n",
              "        vertical-align: top;\n",
              "    }\n",
              "\n",
              "    .dataframe thead th {\n",
              "        text-align: right;\n",
              "    }\n",
              "</style>\n",
              "<table border=\"1\" class=\"dataframe\">\n",
              "  <thead>\n",
              "    <tr style=\"text-align: right;\">\n",
              "      <th></th>\n",
              "      <th>precipitation</th>\n",
              "      <th>temp_max</th>\n",
              "      <th>temp_min</th>\n",
              "      <th>wind</th>\n",
              "    </tr>\n",
              "  </thead>\n",
              "  <tbody>\n",
              "    <tr>\n",
              "      <th>0</th>\n",
              "      <td>0.0</td>\n",
              "      <td>12.8</td>\n",
              "      <td>5.0</td>\n",
              "      <td>4.7</td>\n",
              "    </tr>\n",
              "    <tr>\n",
              "      <th>1</th>\n",
              "      <td>10.9</td>\n",
              "      <td>10.6</td>\n",
              "      <td>2.8</td>\n",
              "      <td>4.5</td>\n",
              "    </tr>\n",
              "    <tr>\n",
              "      <th>2</th>\n",
              "      <td>0.8</td>\n",
              "      <td>11.7</td>\n",
              "      <td>7.2</td>\n",
              "      <td>2.3</td>\n",
              "    </tr>\n",
              "    <tr>\n",
              "      <th>3</th>\n",
              "      <td>20.3</td>\n",
              "      <td>12.2</td>\n",
              "      <td>5.6</td>\n",
              "      <td>4.7</td>\n",
              "    </tr>\n",
              "    <tr>\n",
              "      <th>4</th>\n",
              "      <td>1.3</td>\n",
              "      <td>8.9</td>\n",
              "      <td>2.8</td>\n",
              "      <td>6.1</td>\n",
              "    </tr>\n",
              "  </tbody>\n",
              "</table>\n",
              "</div>"
            ],
            "text/plain": [
              "   precipitation  temp_max  temp_min  wind\n",
              "0            0.0      12.8       5.0   4.7\n",
              "1           10.9      10.6       2.8   4.5\n",
              "2            0.8      11.7       7.2   2.3\n",
              "3           20.3      12.2       5.6   4.7\n",
              "4            1.3       8.9       2.8   6.1"
            ]
          },
          "execution_count": 19,
          "metadata": {},
          "output_type": "execute_result"
        }
      ],
      "source": [
        "X.head()"
      ]
    },
    {
      "cell_type": "code",
      "execution_count": null,
      "id": "1b0e6577",
      "metadata": {
        "id": "1b0e6577",
        "outputId": "39e17889-bfc2-452d-ac2f-a64c13a7fdd0"
      },
      "outputs": [
        {
          "data": {
            "text/plain": [
              "0    drizzle\n",
              "1       rain\n",
              "2       rain\n",
              "3       rain\n",
              "4       rain\n",
              "Name: weather, dtype: object"
            ]
          },
          "execution_count": 20,
          "metadata": {},
          "output_type": "execute_result"
        }
      ],
      "source": [
        "y.head()"
      ]
    },
    {
      "cell_type": "code",
      "execution_count": null,
      "id": "e80787f8",
      "metadata": {
        "id": "e80787f8"
      },
      "outputs": [],
      "source": [
        "from sklearn.model_selection import train_test_split\n",
        "\n",
        "X_train, X_test,y_train,y_test=train_test_split(X,y,test_size=0.28)"
      ]
    },
    {
      "cell_type": "code",
      "execution_count": null,
      "id": "2ee13ebc",
      "metadata": {
        "id": "2ee13ebc",
        "outputId": "95557391-d855-433a-b5f0-280fe411827e"
      },
      "outputs": [
        {
          "name": "stderr",
          "output_type": "stream",
          "text": [
            "D:\\anaconda\\lib\\site-packages\\sklearn\\linear_model\\_logistic.py:814: ConvergenceWarning: lbfgs failed to converge (status=1):\n",
            "STOP: TOTAL NO. of ITERATIONS REACHED LIMIT.\n",
            "\n",
            "Increase the number of iterations (max_iter) or scale the data as shown in:\n",
            "    https://scikit-learn.org/stable/modules/preprocessing.html\n",
            "Please also refer to the documentation for alternative solver options:\n",
            "    https://scikit-learn.org/stable/modules/linear_model.html#logistic-regression\n",
            "  n_iter_i = _check_optimize_result(\n"
          ]
        }
      ],
      "source": [
        "from sklearn.linear_model import LogisticRegression\n",
        "\n",
        "log_reg=LogisticRegression()\n",
        "model=log_reg.fit(X_train,y_train)"
      ]
    },
    {
      "cell_type": "code",
      "execution_count": null,
      "id": "9f1156d5",
      "metadata": {
        "id": "9f1156d5"
      },
      "outputs": [],
      "source": [
        "prediction=model.predict(X_test)"
      ]
    },
    {
      "cell_type": "code",
      "execution_count": null,
      "id": "f3628c11",
      "metadata": {
        "id": "f3628c11",
        "outputId": "ac805cbe-e50c-4266-c027-c10a35a744e2"
      },
      "outputs": [
        {
          "data": {
            "text/plain": [
              "0.8560975609756097"
            ]
          },
          "execution_count": 59,
          "metadata": {},
          "output_type": "execute_result"
        }
      ],
      "source": [
        "from sklearn.metrics import accuracy_score\n",
        "\n",
        "accuracy_score(y_test,prediction)"
      ]
    },
    {
      "cell_type": "code",
      "execution_count": null,
      "id": "4a62c94b",
      "metadata": {
        "id": "4a62c94b",
        "outputId": "59740422-6cac-4be4-94f7-e320744f46cf"
      },
      "outputs": [
        {
          "data": {
            "text/plain": [
              "array(['sun', 'rain', 'rain', 'sun', 'sun', 'rain', 'sun', 'sun', 'sun',\n",
              "       'sun', 'sun', 'sun', 'rain', 'rain', 'rain', 'sun', 'rain', 'rain',\n",
              "       'rain', 'rain', 'rain', 'rain', 'sun', 'rain', 'sun', 'sun',\n",
              "       'rain', 'sun', 'rain', 'rain', 'sun', 'rain', 'sun', 'sun', 'rain',\n",
              "       'sun', 'rain', 'sun', 'sun', 'sun', 'sun', 'sun', 'rain', 'sun',\n",
              "       'sun', 'sun', 'sun', 'sun', 'sun', 'rain', 'sun', 'sun', 'rain',\n",
              "       'sun', 'rain', 'rain', 'rain', 'sun', 'sun', 'sun', 'sun', 'sun',\n",
              "       'sun', 'sun', 'rain', 'sun', 'sun', 'sun', 'sun', 'sun', 'sun',\n",
              "       'sun', 'rain', 'rain', 'sun', 'rain', 'sun', 'rain', 'sun', 'rain',\n",
              "       'sun', 'sun', 'rain', 'snow', 'sun', 'rain', 'rain', 'sun', 'rain',\n",
              "       'rain', 'sun', 'rain', 'snow', 'rain', 'rain', 'rain', 'sun',\n",
              "       'sun', 'sun', 'rain', 'sun', 'sun', 'sun', 'sun', 'sun', 'sun',\n",
              "       'sun', 'rain', 'rain', 'sun', 'sun', 'sun', 'sun', 'rain', 'rain',\n",
              "       'sun', 'sun', 'sun', 'sun', 'sun', 'rain', 'rain', 'rain', 'rain',\n",
              "       'rain', 'sun', 'sun', 'sun', 'sun', 'sun', 'sun', 'sun', 'rain',\n",
              "       'rain', 'sun', 'sun', 'sun', 'sun', 'sun', 'sun', 'sun', 'rain',\n",
              "       'rain', 'sun', 'sun', 'sun', 'rain', 'rain', 'rain', 'sun', 'sun',\n",
              "       'rain', 'rain', 'rain', 'rain', 'rain', 'rain', 'sun', 'sun',\n",
              "       'sun', 'sun', 'sun', 'rain', 'sun', 'sun', 'rain', 'rain', 'rain',\n",
              "       'sun', 'sun', 'rain', 'sun', 'sun', 'rain', 'sun', 'rain', 'sun',\n",
              "       'sun', 'sun', 'sun', 'sun', 'sun', 'rain', 'sun', 'sun', 'sun',\n",
              "       'sun', 'sun', 'sun', 'sun', 'sun', 'rain', 'rain', 'sun', 'sun',\n",
              "       'sun', 'rain', 'sun', 'rain', 'sun', 'sun', 'sun', 'sun', 'sun',\n",
              "       'rain', 'sun', 'rain', 'sun', 'rain', 'rain', 'rain', 'sun', 'sun',\n",
              "       'rain', 'rain', 'sun', 'sun', 'sun', 'rain', 'sun', 'rain', 'rain',\n",
              "       'sun', 'sun', 'sun', 'sun', 'rain', 'sun', 'rain', 'rain', 'sun',\n",
              "       'sun', 'sun', 'sun', 'sun', 'rain', 'sun', 'sun', 'rain', 'sun',\n",
              "       'rain', 'rain', 'sun', 'sun', 'rain', 'sun', 'sun', 'sun', 'sun',\n",
              "       'sun', 'sun', 'sun', 'sun', 'rain', 'rain', 'sun', 'rain', 'sun',\n",
              "       'sun', 'sun', 'sun', 'sun', 'sun', 'sun', 'rain', 'sun', 'rain',\n",
              "       'sun', 'sun', 'rain', 'rain', 'sun', 'sun', 'rain', 'sun', 'sun',\n",
              "       'sun', 'rain', 'sun', 'sun', 'rain', 'sun', 'rain', 'sun', 'rain',\n",
              "       'sun', 'rain', 'sun', 'rain', 'rain', 'rain', 'rain', 'rain',\n",
              "       'rain', 'rain', 'sun', 'sun', 'sun', 'sun', 'rain', 'rain', 'sun',\n",
              "       'sun', 'sun', 'rain', 'rain', 'sun', 'rain', 'rain', 'sun', 'sun',\n",
              "       'rain', 'sun', 'rain', 'rain', 'sun', 'rain', 'rain', 'rain',\n",
              "       'sun', 'sun', 'rain', 'sun', 'sun', 'rain', 'rain', 'rain', 'rain',\n",
              "       'rain', 'sun', 'rain', 'sun', 'sun', 'sun', 'sun', 'sun', 'sun',\n",
              "       'rain', 'sun', 'rain', 'sun', 'sun', 'sun', 'rain', 'rain', 'sun',\n",
              "       'rain', 'sun', 'rain', 'rain', 'sun', 'sun', 'rain', 'sun', 'sun',\n",
              "       'rain', 'sun', 'rain', 'sun', 'sun', 'sun', 'rain', 'sun', 'sun',\n",
              "       'sun', 'sun', 'sun', 'sun', 'rain', 'rain', 'sun', 'sun', 'sun',\n",
              "       'sun', 'sun', 'sun', 'sun', 'sun', 'sun', 'rain', 'sun', 'sun',\n",
              "       'sun', 'rain', 'sun', 'rain', 'rain', 'rain', 'rain', 'sun', 'sun',\n",
              "       'rain', 'rain', 'rain', 'rain', 'rain', 'sun', 'rain', 'sun',\n",
              "       'rain', 'sun', 'sun', 'sun', 'rain', 'sun', 'rain', 'rain', 'rain',\n",
              "       'snow', 'sun'], dtype=object)"
            ]
          },
          "execution_count": 60,
          "metadata": {},
          "output_type": "execute_result"
        }
      ],
      "source": [
        "prediction"
      ]
    },
    {
      "cell_type": "code",
      "execution_count": null,
      "id": "31863c79",
      "metadata": {
        "id": "31863c79"
      },
      "outputs": [],
      "source": [
        "from sklearn.ensemble import GradientBoostingClassifier\n",
        "\n",
        "gb_clf = GradientBoostingClassifier(\n",
        "    max_depth=3, learning_rate=0.1, n_estimators=10\n",
        "  )\n",
        "gb_clf.fit(X_train, y_train)\n",
        "pred_gr = gb_clf.predict(X_test)"
      ]
    },
    {
      "cell_type": "code",
      "execution_count": null,
      "id": "b5d7f802",
      "metadata": {
        "id": "b5d7f802",
        "outputId": "85c26d64-139d-4c06-8722-06624facacb0"
      },
      "outputs": [
        {
          "data": {
            "text/plain": [
              "0.8658536585365854"
            ]
          },
          "execution_count": 62,
          "metadata": {},
          "output_type": "execute_result"
        }
      ],
      "source": [
        "accuracy_score(y_test, pred_gr)"
      ]
    },
    {
      "cell_type": "code",
      "execution_count": null,
      "id": "02c2f6e1",
      "metadata": {
        "id": "02c2f6e1",
        "outputId": "8bb3d350-dab6-4663-c674-006cfcca57ae"
      },
      "outputs": [
        {
          "data": {
            "text/html": [
              "<div>\n",
              "<style scoped>\n",
              "    .dataframe tbody tr th:only-of-type {\n",
              "        vertical-align: middle;\n",
              "    }\n",
              "\n",
              "    .dataframe tbody tr th {\n",
              "        vertical-align: top;\n",
              "    }\n",
              "\n",
              "    .dataframe thead th {\n",
              "        text-align: right;\n",
              "    }\n",
              "</style>\n",
              "<table border=\"1\" class=\"dataframe\">\n",
              "  <thead>\n",
              "    <tr style=\"text-align: right;\">\n",
              "      <th></th>\n",
              "      <th>precipitation</th>\n",
              "      <th>temp_max</th>\n",
              "      <th>temp_min</th>\n",
              "      <th>wind</th>\n",
              "    </tr>\n",
              "  </thead>\n",
              "  <tbody>\n",
              "    <tr>\n",
              "      <th>685</th>\n",
              "      <td>0.0</td>\n",
              "      <td>10.0</td>\n",
              "      <td>5.0</td>\n",
              "      <td>4.6</td>\n",
              "    </tr>\n",
              "    <tr>\n",
              "      <th>1339</th>\n",
              "      <td>5.8</td>\n",
              "      <td>19.4</td>\n",
              "      <td>13.9</td>\n",
              "      <td>5.0</td>\n",
              "    </tr>\n",
              "    <tr>\n",
              "      <th>825</th>\n",
              "      <td>4.6</td>\n",
              "      <td>11.7</td>\n",
              "      <td>7.8</td>\n",
              "      <td>4.3</td>\n",
              "    </tr>\n",
              "    <tr>\n",
              "      <th>850</th>\n",
              "      <td>0.0</td>\n",
              "      <td>27.8</td>\n",
              "      <td>9.4</td>\n",
              "      <td>3.9</td>\n",
              "    </tr>\n",
              "    <tr>\n",
              "      <th>154</th>\n",
              "      <td>0.0</td>\n",
              "      <td>17.2</td>\n",
              "      <td>9.4</td>\n",
              "      <td>2.9</td>\n",
              "    </tr>\n",
              "    <tr>\n",
              "      <th>...</th>\n",
              "      <td>...</td>\n",
              "      <td>...</td>\n",
              "      <td>...</td>\n",
              "      <td>...</td>\n",
              "    </tr>\n",
              "    <tr>\n",
              "      <th>19</th>\n",
              "      <td>13.5</td>\n",
              "      <td>7.2</td>\n",
              "      <td>-1.1</td>\n",
              "      <td>2.3</td>\n",
              "    </tr>\n",
              "    <tr>\n",
              "      <th>1387</th>\n",
              "      <td>0.3</td>\n",
              "      <td>17.2</td>\n",
              "      <td>12.2</td>\n",
              "      <td>2.6</td>\n",
              "    </tr>\n",
              "    <tr>\n",
              "      <th>717</th>\n",
              "      <td>1.3</td>\n",
              "      <td>7.8</td>\n",
              "      <td>2.2</td>\n",
              "      <td>2.8</td>\n",
              "    </tr>\n",
              "    <tr>\n",
              "      <th>706</th>\n",
              "      <td>0.0</td>\n",
              "      <td>0.0</td>\n",
              "      <td>-7.1</td>\n",
              "      <td>3.1</td>\n",
              "    </tr>\n",
              "    <tr>\n",
              "      <th>1293</th>\n",
              "      <td>0.0</td>\n",
              "      <td>27.8</td>\n",
              "      <td>13.9</td>\n",
              "      <td>3.3</td>\n",
              "    </tr>\n",
              "  </tbody>\n",
              "</table>\n",
              "<p>410 rows × 4 columns</p>\n",
              "</div>"
            ],
            "text/plain": [
              "      precipitation  temp_max  temp_min  wind\n",
              "685             0.0      10.0       5.0   4.6\n",
              "1339            5.8      19.4      13.9   5.0\n",
              "825             4.6      11.7       7.8   4.3\n",
              "850             0.0      27.8       9.4   3.9\n",
              "154             0.0      17.2       9.4   2.9\n",
              "...             ...       ...       ...   ...\n",
              "19             13.5       7.2      -1.1   2.3\n",
              "1387            0.3      17.2      12.2   2.6\n",
              "717             1.3       7.8       2.2   2.8\n",
              "706             0.0       0.0      -7.1   3.1\n",
              "1293            0.0      27.8      13.9   3.3\n",
              "\n",
              "[410 rows x 4 columns]"
            ]
          },
          "execution_count": 63,
          "metadata": {},
          "output_type": "execute_result"
        }
      ],
      "source": [
        "X_test"
      ]
    },
    {
      "cell_type": "code",
      "execution_count": null,
      "id": "ccc7e0d5",
      "metadata": {
        "id": "ccc7e0d5"
      },
      "outputs": [],
      "source": []
    }
  ],
  "metadata": {
    "kernelspec": {
      "display_name": "Python 3 (ipykernel)",
      "language": "python",
      "name": "python3"
    },
    "language_info": {
      "codemirror_mode": {
        "name": "ipython",
        "version": 3
      },
      "file_extension": ".py",
      "mimetype": "text/x-python",
      "name": "python",
      "nbconvert_exporter": "python",
      "pygments_lexer": "ipython3",
      "version": "3.9.12"
    },
    "colab": {
      "provenance": []
    }
  },
  "nbformat": 4,
  "nbformat_minor": 5
}